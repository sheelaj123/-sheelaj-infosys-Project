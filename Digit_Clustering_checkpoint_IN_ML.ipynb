{
  "cells": [
    {
      "cell_type": "markdown",
      "metadata": {
        "id": "view-in-github",
        "colab_type": "text"
      },
      "source": [
        "<a href=\"https://colab.research.google.com/github/sheelaj123/-sheelaj-infosys-Project/blob/main/Digit_Clustering_checkpoint_IN_ML.ipynb\" target=\"_parent\"><img src=\"https://colab.research.google.com/assets/colab-badge.svg\" alt=\"Open In Colab\"/></a>"
      ]
    },
    {
      "cell_type": "markdown",
      "source": [
        "#Clustering\n",
        "Now that you are familiar with various algorithms that help in supervised learning. Next, Let us briefly discuss unsupervised learning with an example of clustering.\n",
        "\n",
        "Unsupervised learning deals with historical data which contains no labels. For example the handwritten digits dataset contains pixel intensities of digits captured as 28x28 images. These images do not have any labels associated with them."
      ],
      "metadata": {
        "id": "xYyec8oGdmFa"
      }
    },
    {
      "cell_type": "code",
      "execution_count": 1,
      "metadata": {
        "id": "UtvVYl9KbTvy"
      },
      "outputs": [],
      "source": [
        "# Import necessary libraries\n",
        "import numpy as np\n",
        "import pandas as pd\n",
        "import matplotlib.pyplot as plt\n",
        "%matplotlib inline"
      ]
    },
    {
      "cell_type": "code",
      "execution_count": 2,
      "metadata": {
        "id": "Anv9TksybTv0"
      },
      "outputs": [],
      "source": [
        "# Load the data from the file\n",
        "mnist_data = pd.read_csv(\"mnist_data.csv\")"
      ]
    },
    {
      "cell_type": "markdown",
      "source": [
        "#Reading the data\n",
        "\n",
        "The below code helps you understand the data. Here you can see  the plot of the first data point in the set and it happens to be an image of the digit 2."
      ],
      "metadata": {
        "id": "0qNuPwROeFF_"
      }
    },
    {
      "cell_type": "code",
      "execution_count": 3,
      "metadata": {
        "colab": {
          "base_uri": "https://localhost:8080/",
          "height": 448
        },
        "id": "vgaP6tScbTv1",
        "outputId": "c1120905-7da9-4da7-dcb1-d0c6d3ebd8ff"
      },
      "outputs": [
        {
          "output_type": "execute_result",
          "data": {
            "text/plain": [
              "<matplotlib.image.AxesImage at 0x7a33a7cd40d0>"
            ]
          },
          "metadata": {},
          "execution_count": 3
        },
        {
          "output_type": "display_data",
          "data": {
            "text/plain": [
              "<Figure size 640x480 with 1 Axes>"
            ],
            "image/png": "[encoded data removed]"
          },
          "metadata": {}
        }
      ],
      "source": [
        "# Plotting the first image in the data\n",
        "im = np.asarray(mnist_data.iloc[0:1,:]).reshape(28,28)\n",
        "plt.imshow(im,cmap=plt.cm.gray)"
      ]
    },
    {
      "cell_type": "code",
      "source": [
        "from sklearn.cluster import KMeans\n",
        "# building K-Means model with 10 clusters\n",
        "model = KMeans(n_clusters=10)\n",
        "model.fit(mnist_data)\n",
        "# Take a look at the cluster labels that are generated\n",
        "# Note that these cluster labels do not indicate the digit in the images\n",
        "print(np.unique(model.labels_))\n",
        "#output\n",
        "#[0 1 2 3 4 5 6 7 8 9]\n"
      ],
      "metadata": {
        "id": "vyXNaXrwdg2i"
      },
      "execution_count": null,
      "outputs": []
    },
    {
      "cell_type": "markdown",
      "source": [
        "Exploring the clusters generated by the model:\n",
        "\n",
        "Let us now look at a few data points grouped by the model."
      ],
      "metadata": {
        "id": "JeeD9jKZdwjt"
      }
    },
    {
      "cell_type": "code",
      "source": [
        "# Explore images in cluster 1\n",
        "# cluster1 variable holds the data that has been grouped into the first cluster\n",
        "cluster1 = mnist_data[model.labels_==0]\n",
        "# Pick 5 random images from cluster 1\n",
        "cluster1_imgs = cluster1.iloc[[np.random.randint(0,cluster1.shape[0]) for i in range(0,5)]]\n",
        "# Plot the images in cluster 1\n",
        "for i in range(0,cluster1_imgs.shape[0]):\n",
        "    plt.subplot(1,5,i+1)\n",
        "    img_fig = np.asarray(cluster1_imgs[i:i+1]).reshape(28,28)\n",
        "    plt.imshow(img_fig,cmap=plt.cm.gray)\n"
      ],
      "metadata": {
        "id": "mMf_DJL0dqjG"
      },
      "execution_count": null,
      "outputs": []
    },
    {
      "cell_type": "code",
      "source": [
        "# Explore images in cluster 2\n",
        "cluster2 = mnist_data[model.labels_==1]\n",
        "cluster2_imgs = cluster2.iloc[[np.random.randint(0,cluster2.shape[0]) for i in range(0,5)]]\n",
        "for i in range(0,cluster2_imgs.shape[0]):\n",
        "    plt.subplot(1,5,i+1)\n",
        "    img_fig = np.asarray(cluster2_imgs[i:i+1]).reshape(28,28)\n",
        "    plt.imshow(img_fig,cmap=plt.cm.gray)\n"
      ],
      "metadata": {
        "id": "P_s1g2Fyd36I"
      },
      "execution_count": null,
      "outputs": []
    },
    {
      "cell_type": "code",
      "source": [],
      "metadata": {
        "id": "YpuPuhAleI5l"
      },
      "execution_count": null,
      "outputs": []
    },
    {
      "cell_type": "markdown",
      "source": [
        "##Topic Ends here, Thanks for visiting.....!!....Happy Learning...>##"
      ],
      "metadata": {
        "id": "rrtBMaXQeJ5i"
      }
    }
  ],
  "metadata": {
    "kernelspec": {
      "display_name": "Python 3",
      "language": "python",
      "name": "python3"
    },
    "language_info": {
      "codemirror_mode": {
        "name": "ipython",
        "version": 3
      },
      "file_extension": ".py",
      "mimetype": "text/x-python",
      "name": "python",
      "nbconvert_exporter": "python",
      "pygments_lexer": "ipython3",
      "version": "3.7.7"
    },
    "colab": {
      "provenance": [],
      "include_colab_link": true
    }
  },
  "nbformat": 4,
  "nbformat_minor": 0
}